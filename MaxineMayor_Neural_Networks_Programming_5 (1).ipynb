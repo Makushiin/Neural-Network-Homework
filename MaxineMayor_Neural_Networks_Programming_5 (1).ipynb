{
  "cells": [
    {
      "cell_type": "markdown",
      "metadata": {
        "id": "qamQ47OizOA7"
      },
      "source": [
        "## Assignment 5 - Neural Networks\n",
        "### CS450 Fall 2022\n",
        "\n",
        "This assignment contains 3 problems. \n",
        "We will not use a grading script for this assignment, but the grading criteria is explained in the instructions.\n"
      ]
    },
    {
      "cell_type": "markdown",
      "source": [
        "STEP 0\n",
        "*COPY NOTEBOOK TO YOUR DRIVE*"
      ],
      "metadata": {
        "id": "hORnYEDQmo0B"
      }
    },
    {
      "cell_type": "markdown",
      "metadata": {
        "id": "5lgNnA0dzOA-"
      },
      "source": [
        "Student Name: Maxine Mayor\n",
        "<br>If you used pair programming..\n",
        "<br>Programming Partner:\n"
      ]
    },
    {
      "cell_type": "markdown",
      "metadata": {
        "id": "Wh3kol_JzOBE"
      },
      "source": [
        "### Problem 1 - MNIST Data Set (10 points)\n",
        "* Use the MNIST dataset to classify the type of apparel using an artificial nueral network.\n",
        "* https://www.kaggle.com/zalando-research/fashionmnist\n",
        "* You may use the library of your choosing\n",
        "* We went over this is class, so this is an easy one to get you started.\n",
        "* Grading criteria: Your results on the test data should exceed 0.80 accuracy and you have some explaination about the model.\n"
      ]
    },
    {
      "cell_type": "code",
      "source": [
        "import tensorflow as tf\n",
        "import pandas as pd\n",
        "import numpy as np\n",
        "import matplotlib.pyplot as plt\n",
        "from sklearn.metrics import mean_absolute_error\n",
        "from sklearn.metrics import mean_squared_error\n",
        "from sklearn.model_selection import train_test_split\n",
        "from sklearn.preprocessing import MinMaxScaler\n",
        "from tensorflow.keras.models import Sequential\n",
        "from tensorflow.keras.layers import Dense\n",
        "tf.random.set_seed(1)"
      ],
      "metadata": {
        "id": "9Twna8-jPGnd"
      },
      "execution_count": 187,
      "outputs": []
    },
    {
      "cell_type": "code",
      "execution_count": 188,
      "metadata": {
        "id": "o0nQJIhwzOBE",
        "colab": {
          "base_uri": "https://localhost:8080/"
        },
        "outputId": "627a7d32-9bc3-4bad-c1f0-5c1794defc3f"
      },
      "outputs": [
        {
          "output_type": "stream",
          "name": "stdout",
          "text": [
            "Model: \"sequential_7\"\n",
            "_________________________________________________________________\n",
            " Layer (type)                Output Shape              Param #   \n",
            "=================================================================\n",
            " dense_17 (Dense)            (None, 128)               100480    \n",
            "                                                                 \n",
            " dropout_2 (Dropout)         (None, 128)               0         \n",
            "                                                                 \n",
            "=================================================================\n",
            "Total params: 100,480\n",
            "Trainable params: 100,480\n",
            "Non-trainable params: 0\n",
            "_________________________________________________________________\n"
          ]
        }
      ],
      "source": [
        "### You code here\n",
        "import tensorflow as tf\n",
        "from tensorflow.keras.datasets import fashion_mnist\n",
        "(X_train, y_train), (X_test, y_test) = fashion_mnist.load_data()\n",
        "\n",
        "X_train = X_train/255.0\n",
        "X_test = X_test/255.0\n",
        "\n",
        "X_train = X_train.reshape(-1, 28*28)\n",
        "X_test = X_test.reshape(-1, 28*28)\n",
        "\n",
        "model = tf.keras.models.Sequential()\n",
        "\n",
        "model.add(tf.keras.layers.Dense(units = 128, activation = 'relu', input_shape = (784,)))\n",
        "\n",
        "model.add(tf.keras.layers.Dropout(0.2))\n",
        "\n",
        "model.summary()"
      ]
    },
    {
      "cell_type": "code",
      "source": [
        "model.add(tf.keras.layers.Dense(units = 10, activation = 'softmax'))\n",
        "\n",
        "model.compile(optimizer = 'adam', loss = 'sparse_categorical_crossentropy', metrics = ['sparse_categorical_accuracy'])\n",
        "model.summary()"
      ],
      "metadata": {
        "colab": {
          "base_uri": "https://localhost:8080/"
        },
        "id": "WwqGC2x2lLDK",
        "outputId": "e86fbebf-da63-473b-9507-5ad4b630b2e5"
      },
      "execution_count": 189,
      "outputs": [
        {
          "output_type": "stream",
          "name": "stdout",
          "text": [
            "Model: \"sequential_7\"\n",
            "_________________________________________________________________\n",
            " Layer (type)                Output Shape              Param #   \n",
            "=================================================================\n",
            " dense_17 (Dense)            (None, 128)               100480    \n",
            "                                                                 \n",
            " dropout_2 (Dropout)         (None, 128)               0         \n",
            "                                                                 \n",
            " dense_18 (Dense)            (None, 10)                1290      \n",
            "                                                                 \n",
            "=================================================================\n",
            "Total params: 101,770\n",
            "Trainable params: 101,770\n",
            "Non-trainable params: 0\n",
            "_________________________________________________________________\n"
          ]
        }
      ]
    },
    {
      "cell_type": "code",
      "source": [
        "model.fit(X_train, y_train, epochs = 5)\n",
        "test_loss, test_accuracy = model.evaluate(X_test, y_test)"
      ],
      "metadata": {
        "colab": {
          "base_uri": "https://localhost:8080/"
        },
        "id": "6qYHulLdlOCl",
        "outputId": "1bdc0b8d-d402-4286-85d0-6fa71614552f"
      },
      "execution_count": 190,
      "outputs": [
        {
          "output_type": "stream",
          "name": "stdout",
          "text": [
            "Epoch 1/5\n",
            "1875/1875 [==============================] - 7s 3ms/step - loss: 0.5296 - sparse_categorical_accuracy: 0.8127\n",
            "Epoch 2/5\n",
            "1875/1875 [==============================] - 7s 4ms/step - loss: 0.3998 - sparse_categorical_accuracy: 0.8565\n",
            "Epoch 3/5\n",
            "1875/1875 [==============================] - 6s 3ms/step - loss: 0.3652 - sparse_categorical_accuracy: 0.8665\n",
            "Epoch 4/5\n",
            "1875/1875 [==============================] - 7s 4ms/step - loss: 0.3470 - sparse_categorical_accuracy: 0.8733\n",
            "Epoch 5/5\n",
            "1875/1875 [==============================] - 7s 4ms/step - loss: 0.3297 - sparse_categorical_accuracy: 0.8785\n",
            "313/313 [==============================] - 1s 3ms/step - loss: 0.3532 - sparse_categorical_accuracy: 0.8729\n"
          ]
        }
      ]
    },
    {
      "cell_type": "code",
      "source": [
        "print(\"Test Accuracy\",test_accuracy)"
      ],
      "metadata": {
        "colab": {
          "base_uri": "https://localhost:8080/"
        },
        "id": "xBu97KlklQor",
        "outputId": "dc4d1628-5d4c-4b6c-834c-668626b266c0"
      },
      "execution_count": 191,
      "outputs": [
        {
          "output_type": "stream",
          "name": "stdout",
          "text": [
            "Test Accuracy 0.8729000091552734\n"
          ]
        }
      ]
    },
    {
      "cell_type": "markdown",
      "metadata": {
        "id": "b3EsCADozOBF"
      },
      "source": [
        "Provide an explanation on how you picked the initial parameters:\n",
        "\n",
        "\n",
        "\n",
        "*   28 * 28 = 784 = input shape\n",
        "*   output layer = # of units as our classes = 10\n",
        "* reLu activation = arbitrary number for our neruons\n",
        "\n"
      ]
    },
    {
      "cell_type": "markdown",
      "metadata": {
        "id": "z5ayzH6GzOBF"
      },
      "source": [
        "### Problem 2 - Poker Hand Classification (30 points)\n",
        "* Use the Pokerhand dataset at https://archive.ics.uci.edu/ml/machine-learning-databases/poker/\n",
        "* Pay attention to class distribution.\n",
        "  * Do you need to do anything to balance the data? \n",
        "* How does it affect ANNs if the training data is ordered?\n",
        "* I mentioned early stopping in class but didn't go into detail. Implement early stopping in your model\n",
        "  * This article provides an example of early stopping with Keras and Tensorflow \n",
        "  * https://towardsdatascience.com/a-practical-introduction-to-early-stopping-in-machine-learning-550ac88bc8fd\n",
        "  * Provide a visualization of training and cross validation loss at each epoch\n",
        "* Provide a confusion matrix and F1 score for the test data\n",
        "* The output of the model will be probabilities of each class. I like to use np.argmax to get the most probable class, but you may use other techniques."
      ]
    },
    {
      "cell_type": "code",
      "source": [
        "import pandas as pd\n",
        "import numpy as np\n",
        "from sklearn.model_selection import train_test_split\n",
        "from sklearn.utils import resample\n",
        "import tensorflow as tf\n",
        "from tensorflow.keras import layers, models, callbacks\n",
        "from sklearn.metrics import confusion_matrix, f1_score\n",
        "import matplotlib.pyplot as plt"
      ],
      "metadata": {
        "id": "5XKKkRJLTL3Q"
      },
      "execution_count": 192,
      "outputs": []
    },
    {
      "cell_type": "code",
      "source": [
        "# Load the dataset\n",
        "df = pd.read_csv('https://archive.ics.uci.edu/ml/machine-learning-databases/poker/poker-hand-training-true.data', header=None)\n",
        "\n",
        "# Rename the columns\n",
        "df.columns = ['S1', 'C1', 'S2', 'C2', 'S3', 'C3', 'S4', 'C4', 'S5', 'C5', 'class']"
      ],
      "metadata": {
        "id": "LAgKem4AuTvG"
      },
      "execution_count": 193,
      "outputs": []
    },
    {
      "cell_type": "code",
      "source": [
        "# Balance the data by oversampling the minority classes\n",
        "df_0 = resample(df[df['class']==0], replace=True, n_samples=8000, random_state=1)\n",
        "df_1 = resample(df[df['class']==1], replace=True, n_samples=8000, random_state=1)\n",
        "df_2 = resample(df[df['class']==2], replace=True, n_samples=8000, random_state=1)\n",
        "df_3 = resample(df[df['class']==3], replace=True, n_samples=8000, random_state=1)\n",
        "df_4 = resample(df[df['class']==4], replace=True, n_samples=8000, random_state=1)\n",
        "df_5 = resample(df[df['class']==5], replace=True, n_samples=8000, random_state=1)\n",
        "df_6 = resample(df[df['class']==6], replace=True, n_samples=8000, random_state=1)\n",
        "df_7 = resample(df[df['class']==7], replace=True, n_samples=8000, random_state=1)\n",
        "df_8 = resample(df[df['class']==8], replace=True, n_samples=8000, random_state=1)\n",
        "df_9 = resample(df[df['class']==9], replace=True, n_samples=8000, random_state=1)\n",
        "\n",
        "# Combine the oversampled dataframes\n",
        "df_balanced = pd.concat([df_0, df_1, df_2, df_3, df_4, df_5, df_6, df_7, df_8, df_9])"
      ],
      "metadata": {
        "id": "dRVerelV8UBF"
      },
      "execution_count": 194,
      "outputs": []
    },
    {
      "cell_type": "code",
      "source": [
        "# Shuffle the data\n",
        "df_shuffled = df_balanced.sample(frac=1, random_state=1)"
      ],
      "metadata": {
        "id": "G7XXRlV8uemJ"
      },
      "execution_count": 195,
      "outputs": []
    },
    {
      "cell_type": "code",
      "source": [
        "y = onehot_df['Label']\n",
        "X = onehot_df.loc[:, onehot_df.columns != 'Label']\n",
        "\n",
        "#shuffle X and y\n",
        "from sklearn.utils import shuffle\n",
        "X, y = shuffle(X, y)"
      ],
      "metadata": {
        "id": "3ok-X2zCugMj"
      },
      "execution_count": 196,
      "outputs": []
    },
    {
      "cell_type": "code",
      "source": [
        "# Split the data into train, validation, and test sets\n",
        "X = df_shuffled.iloc[:, :-1].values\n",
        "y = df_shuffled.iloc[:, -1].values\n",
        "X_train_val, X_test, y_train_val, y_test = train_test_split(X, y, test_size=0.2, random_state=1)\n",
        "X_train, X_val, y_train, y_val = train_test_split(X_train_val, y_train_val, test_size=0.2, random_state=1)"
      ],
      "metadata": {
        "id": "glX2gY6hujNR"
      },
      "execution_count": 197,
      "outputs": []
    },
    {
      "cell_type": "code",
      "source": [
        "# Normalize the features\n",
        "mean = X_train.mean(axis=0)\n",
        "std = X_train.std(axis=0)\n",
        "X_train = (X_train - mean) / std\n",
        "X_val = (X_val - mean) / std\n",
        "X_test = (X_test - mean) / std"
      ],
      "metadata": {
        "id": "3tdjRKoDukv8"
      },
      "execution_count": 198,
      "outputs": []
    },
    {
      "cell_type": "code",
      "source": [
        "# Define the neural network model\n",
        "model = models.Sequential([\n",
        "    layers.Dense(32, activation='relu', input_shape=(10,)),\n",
        "    layers.Dense(32, activation='relu'),\n",
        "    layers.Dense(10, activation='softmax')\n",
        "])\n",
        "\n",
        "# Compile the model\n",
        "model.compile(optimizer='adam',\n",
        "              loss='sparse_categorical_crossentropy',\n",
        "              metrics=['accuracy'])"
      ],
      "metadata": {
        "id": "SkzkZ7rUurVJ"
      },
      "execution_count": 199,
      "outputs": []
    },
    {
      "cell_type": "code",
      "source": [
        "# Implement early stopping\n",
        "from tensorflow.keras.callbacks import EarlyStopping\n",
        "early_stopping = EarlyStopping()\n",
        "\n",
        "# Train the model\n",
        "history = model.fit(X_train, y_train,\n",
        "                    epochs=100, \n",
        "                    batch_size=32,\n",
        "                    validation_data=(X_val, y_val),\n",
        "                    callbacks=[early_stopping])"
      ],
      "metadata": {
        "colab": {
          "base_uri": "https://localhost:8080/"
        },
        "id": "khBGmjsI0Dyk",
        "outputId": "a0b6c898-40d0-4064-cde0-44f85908d09a"
      },
      "execution_count": 200,
      "outputs": [
        {
          "output_type": "stream",
          "name": "stdout",
          "text": [
            "Epoch 1/100\n",
            "1600/1600 [==============================] - 5s 3ms/step - loss: 1.2851 - accuracy: 0.5215 - val_loss: 0.9635 - val_accuracy: 0.6331\n",
            "Epoch 2/100\n",
            "1600/1600 [==============================] - 3s 2ms/step - loss: 0.8732 - accuracy: 0.6575 - val_loss: 0.7896 - val_accuracy: 0.6841\n",
            "Epoch 3/100\n",
            "1600/1600 [==============================] - 3s 2ms/step - loss: 0.7537 - accuracy: 0.6909 - val_loss: 0.7077 - val_accuracy: 0.7087\n",
            "Epoch 4/100\n",
            "1600/1600 [==============================] - 4s 3ms/step - loss: 0.6928 - accuracy: 0.7101 - val_loss: 0.6713 - val_accuracy: 0.7105\n",
            "Epoch 5/100\n",
            "1600/1600 [==============================] - 3s 2ms/step - loss: 0.6550 - accuracy: 0.7209 - val_loss: 0.6309 - val_accuracy: 0.7270\n",
            "Epoch 6/100\n",
            "1600/1600 [==============================] - 3s 2ms/step - loss: 0.6286 - accuracy: 0.7272 - val_loss: 0.6079 - val_accuracy: 0.7335\n",
            "Epoch 7/100\n",
            "1600/1600 [==============================] - 4s 2ms/step - loss: 0.6089 - accuracy: 0.7328 - val_loss: 0.5944 - val_accuracy: 0.7350\n",
            "Epoch 8/100\n",
            "1600/1600 [==============================] - 4s 3ms/step - loss: 0.5937 - accuracy: 0.7379 - val_loss: 0.5810 - val_accuracy: 0.7454\n",
            "Epoch 9/100\n",
            "1600/1600 [==============================] - 3s 2ms/step - loss: 0.5809 - accuracy: 0.7409 - val_loss: 0.5714 - val_accuracy: 0.7443\n",
            "Epoch 10/100\n",
            "1600/1600 [==============================] - 3s 2ms/step - loss: 0.5699 - accuracy: 0.7435 - val_loss: 0.5629 - val_accuracy: 0.7441\n",
            "Epoch 11/100\n",
            "1600/1600 [==============================] - 5s 3ms/step - loss: 0.5610 - accuracy: 0.7478 - val_loss: 0.5566 - val_accuracy: 0.7464\n",
            "Epoch 12/100\n",
            "1600/1600 [==============================] - 3s 2ms/step - loss: 0.5544 - accuracy: 0.7480 - val_loss: 0.5507 - val_accuracy: 0.7514\n",
            "Epoch 13/100\n",
            "1600/1600 [==============================] - 3s 2ms/step - loss: 0.5477 - accuracy: 0.7500 - val_loss: 0.5438 - val_accuracy: 0.7488\n",
            "Epoch 14/100\n",
            "1600/1600 [==============================] - 4s 3ms/step - loss: 0.5428 - accuracy: 0.7524 - val_loss: 0.5373 - val_accuracy: 0.7570\n",
            "Epoch 15/100\n",
            "1600/1600 [==============================] - 4s 2ms/step - loss: 0.5377 - accuracy: 0.7532 - val_loss: 0.5444 - val_accuracy: 0.7441\n"
          ]
        }
      ]
    },
    {
      "cell_type": "code",
      "source": [
        "# Plot the training and validation loss at each epoch\n",
        "plt.plot(history.history['loss'], label='Training Loss')\n",
        "plt.plot(history.history['val_loss'], label='Validation Loss')\n",
        "plt.xlabel('Epoch')\n",
        "plt.ylabel('Loss')\n",
        "plt.legend()\n",
        "plt.show()"
      ],
      "metadata": {
        "colab": {
          "base_uri": "https://localhost:8080/",
          "height": 449
        },
        "id": "gzSBox9vutY-",
        "outputId": "6851595e-a3a7-41f4-b064-20eb9849bc78"
      },
      "execution_count": 201,
      "outputs": [
        {
          "output_type": "display_data",
          "data": {
            "text/plain": [
              "<Figure size 640x480 with 1 Axes>"
            ],
            "image/png": "[encoded data removed]"
          },
          "metadata": {}
        }
      ]
    },
    {
      "cell_type": "code",
      "source": [
        "# Evaluate the model on the test set\n",
        "test_loss, test_acc = model.evaluate(X_test, y_test)\n",
        "print('Test Loss:', test_loss)\n",
        "print('Test Accuracy:', test_acc)"
      ],
      "metadata": {
        "colab": {
          "base_uri": "https://localhost:8080/"
        },
        "id": "yj52LizN8jrW",
        "outputId": "bde1df02-8360-4bb9-d9ba-537dc7cd5074"
      },
      "execution_count": 202,
      "outputs": [
        {
          "output_type": "stream",
          "name": "stdout",
          "text": [
            "500/500 [==============================] - 1s 1ms/step - loss: 0.5470 - accuracy: 0.7452\n",
            "Test Loss: 0.5469728112220764\n",
            "Test Accuracy: 0.7452499866485596\n"
          ]
        }
      ]
    },
    {
      "cell_type": "code",
      "source": [
        "# Make predictions on the test set\n",
        "y_pred = model.predict(X_test)\n",
        "y_pred = np.argmax(y_pred, axis=1)\n",
        "\n",
        "# Calculate the confusion matrix and F1 score for the test set\n",
        "cm = confusion_matrix(y_test, y_pred)\n",
        "f1 = f1_score(y_test, y_pred, average='weighted')\n",
        "print('Confusion Matrix:\\n', cm)\n",
        "print('F1 Score:', f1)"
      ],
      "metadata": {
        "colab": {
          "base_uri": "https://localhost:8080/"
        },
        "id": "cB_31NWu2y2l",
        "outputId": "6de71da6-94a1-4832-be15-1d1a7b60ac4b"
      },
      "execution_count": 203,
      "outputs": [
        {
          "output_type": "stream",
          "name": "stdout",
          "text": [
            "500/500 [==============================] - 1s 1ms/step\n",
            "Confusion Matrix:\n",
            " [[ 596  713   39  200   14    5   13    0    0    0]\n",
            " [ 432  683   81  272   45    3   12    2    0    0]\n",
            " [ 349  640  172  359   45    0    6    0    0    0]\n",
            " [ 187  524  108  785   27    0    0    0    0    0]\n",
            " [   0    0    0    0 1615    0    0    0    0    0]\n",
            " [   0    0    0    0    0 1607    0    0    0    0]\n",
            " [   0    0    0    0    0    0 1649    0    0    0]\n",
            " [   0    0    0    0    0    0    0 1569    0    0]\n",
            " [   0    0    0    0    0    0    0    0 1611    0]\n",
            " [   0    0    0    0    0    0    0    0    0 1637]]\n",
            "F1 Score: 0.7360970404364001\n"
          ]
        }
      ]
    },
    {
      "cell_type": "markdown",
      "metadata": {
        "id": "Kfw0QCfnzOBF"
      },
      "source": [
        "* Explain how you picked the number of nodes and the \n",
        "number of hidden layers.\n",
        "* Explain your data cleaning and fearture engineering tasks.\n"
      ]
    },
    {
      "cell_type": "markdown",
      "source": [
        "number of hidden layers = 2/3(input layer) + size of output layer\n",
        "\n",
        "\n",
        "number of nodes = number of samples/(number of input neurons + number of output neurons)\n",
        "\n",
        "Cleaning and feature engineering:\n",
        "*   One hot encoding: categorical data are converted into numerical data\n",
        "*   Normalization: transform features to be on a similar scale. This improves the performance and training stability of the model.\n",
        "*   Shuffling: shuffling data serves the purpose of reducing variance and making sure that models remain general and overfit less.\n",
        "*   Oversampling: Oversampled minority classes to fix imbalanced data\n",
        "\n",
        "\n",
        "\n",
        "\n",
        "\n",
        "\n",
        "\n",
        "\n"
      ],
      "metadata": {
        "id": "ngt2FUj01CNL"
      }
    },
    {
      "cell_type": "markdown",
      "metadata": {
        "id": "A2heo9MMzOBF"
      },
      "source": [
        "### Problem 3 - Parkinson's Telemonitoring (30 points)\n",
        "* In class, we focused on artificial nueral networks for classification purposes\n",
        "* Use the data set at https://archive.ics.uci.edu/ml/machine-learning-databases/parkinsons/telemonitoring/\n",
        "   * The goal is to predict the 'motor_UPDRS' \n",
        "   * Remove the 'total_UPDRS' column. The goal of the data set author is to predict both and 'total_UPDRS' but I don't want to have two predicted variables. \n",
        "  * I also don't want to use it as a predictor because 'total_UPDRS' will be too colinear with 'motor_UPDRS' \n",
        "* In this example, we want to use a regression ANN\n",
        "* Use a 80/20 train test split for your model\n",
        "* I acknowledge that you can solve this without an ANN, but please use a regression ANN\n",
        "  * Make sure you look at fields that are numbers but are not truly ordinal. How would you handle them?\n",
        "* This article provides an overview of regression ANN using Tensorflow. \n",
        "  * https://towardsdatascience.com/regression-based-neural-networks-with-tensorflow-v2-0-predicting-average-daily-rates-e20fffa7ac9a\n"
      ]
    },
    {
      "cell_type": "code",
      "source": [
        "import pandas as pd\n",
        "import numpy as np\n",
        "import matplotlib.pyplot as plt\n",
        "from sklearn.model_selection import train_test_split\n",
        "from sklearn.preprocessing import StandardScaler\n",
        "from tensorflow.keras.models import Sequential\n",
        "from tensorflow.keras.layers import Dense"
      ],
      "metadata": {
        "id": "76Z6-UMgtO3b"
      },
      "execution_count": 204,
      "outputs": []
    },
    {
      "cell_type": "code",
      "source": [
        "# Load the data from the UCI ML repository\n",
        "url = \"https://archive.ics.uci.edu/ml/machine-learning-databases/parkinsons/telemonitoring/parkinsons_updrs.data\"\n",
        "data = pd.read_csv(url)\n",
        "\n",
        "# Drop the 'total_UPDRS' column\n",
        "data = data.drop(['total_UPDRS'], axis=1)"
      ],
      "metadata": {
        "id": "lY2GXn7ga0IG"
      },
      "execution_count": 205,
      "outputs": []
    },
    {
      "cell_type": "code",
      "source": [
        "df.head()"
      ],
      "metadata": {
        "colab": {
          "base_uri": "https://localhost:8080/",
          "height": 206
        },
        "id": "BD0qQGkcbX7V",
        "outputId": "4e1e1d02-49f1-4e2c-81b3-80f4f9754343"
      },
      "execution_count": 206,
      "outputs": [
        {
          "output_type": "execute_result",
          "data": {
            "text/plain": [
              "   S1  C1  S2  C2  S3  C3  S4  C4  S5  C5  class\n",
              "0   1  10   1  11   1  13   1  12   1   1      9\n",
              "1   2  11   2  13   2  10   2  12   2   1      9\n",
              "2   3  12   3  11   3  13   3  10   3   1      9\n",
              "3   4  10   4  11   4   1   4  13   4  12      9\n",
              "4   4   1   4  13   4  12   4  11   4  10      9"
            ],
            "text/html": [
              "\n",
              "  <div id=\"df-8dff9fa5-21c2-4998-8255-e3ef6766b1c2\">\n",
              "    <div class=\"colab-df-container\">\n",
              "      <div>\n",
              "<style scoped>\n",
              "    .dataframe tbody tr th:only-of-type {\n",
              "        vertical-align: middle;\n",
              "    }\n",
              "\n",
              "    .dataframe tbody tr th {\n",
              "        vertical-align: top;\n",
              "    }\n",
              "\n",
              "    .dataframe thead th {\n",
              "        text-align: right;\n",
              "    }\n",
              "</style>\n",
              "<table border=\"1\" class=\"dataframe\">\n",
              "  <thead>\n",
              "    <tr style=\"text-align: right;\">\n",
              "      <th></th>\n",
              "      <th>S1</th>\n",
              "      <th>C1</th>\n",
              "      <th>S2</th>\n",
              "      <th>C2</th>\n",
              "      <th>S3</th>\n",
              "      <th>C3</th>\n",
              "      <th>S4</th>\n",
              "      <th>C4</th>\n",
              "      <th>S5</th>\n",
              "      <th>C5</th>\n",
              "      <th>class</th>\n",
              "    </tr>\n",
              "  </thead>\n",
              "  <tbody>\n",
              "    <tr>\n",
              "      <th>0</th>\n",
              "      <td>1</td>\n",
              "      <td>10</td>\n",
              "      <td>1</td>\n",
              "      <td>11</td>\n",
              "      <td>1</td>\n",
              "      <td>13</td>\n",
              "      <td>1</td>\n",
              "      <td>12</td>\n",
              "      <td>1</td>\n",
              "      <td>1</td>\n",
              "      <td>9</td>\n",
              "    </tr>\n",
              "    <tr>\n",
              "      <th>1</th>\n",
              "      <td>2</td>\n",
              "      <td>11</td>\n",
              "      <td>2</td>\n",
              "      <td>13</td>\n",
              "      <td>2</td>\n",
              "      <td>10</td>\n",
              "      <td>2</td>\n",
              "      <td>12</td>\n",
              "      <td>2</td>\n",
              "      <td>1</td>\n",
              "      <td>9</td>\n",
              "    </tr>\n",
              "    <tr>\n",
              "      <th>2</th>\n",
              "      <td>3</td>\n",
              "      <td>12</td>\n",
              "      <td>3</td>\n",
              "      <td>11</td>\n",
              "      <td>3</td>\n",
              "      <td>13</td>\n",
              "      <td>3</td>\n",
              "      <td>10</td>\n",
              "      <td>3</td>\n",
              "      <td>1</td>\n",
              "      <td>9</td>\n",
              "    </tr>\n",
              "    <tr>\n",
              "      <th>3</th>\n",
              "      <td>4</td>\n",
              "      <td>10</td>\n",
              "      <td>4</td>\n",
              "      <td>11</td>\n",
              "      <td>4</td>\n",
              "      <td>1</td>\n",
              "      <td>4</td>\n",
              "      <td>13</td>\n",
              "      <td>4</td>\n",
              "      <td>12</td>\n",
              "      <td>9</td>\n",
              "    </tr>\n",
              "    <tr>\n",
              "      <th>4</th>\n",
              "      <td>4</td>\n",
              "      <td>1</td>\n",
              "      <td>4</td>\n",
              "      <td>13</td>\n",
              "      <td>4</td>\n",
              "      <td>12</td>\n",
              "      <td>4</td>\n",
              "      <td>11</td>\n",
              "      <td>4</td>\n",
              "      <td>10</td>\n",
              "      <td>9</td>\n",
              "    </tr>\n",
              "  </tbody>\n",
              "</table>\n",
              "</div>\n",
              "      <button class=\"colab-df-convert\" onclick=\"convertToInteractive('df-8dff9fa5-21c2-4998-8255-e3ef6766b1c2')\"\n",
              "              title=\"Convert this dataframe to an interactive table.\"\n",
              "              style=\"display:none;\">\n",
              "        \n",
              "  <svg xmlns=\"http://www.w3.org/2000/svg\" height=\"24px\"viewBox=\"0 0 24 24\"\n",
              "       width=\"24px\">\n",
              "    <path d=\"M0 0h24v24H0V0z\" fill=\"none\"/>\n",
              "    <path d=\"M18.56 5.44l.94 2.06.94-2.06 2.06-.94-2.06-.94-.94-2.06-.94 2.06-2.06.94zm-11 1L8.5 8.5l.94-2.06 2.06-.94-2.06-.94L8.5 2.5l-.94 2.06-2.06.94zm10 10l.94 2.06.94-2.06 2.06-.94-2.06-.94-.94-2.06-.94 2.06-2.06.94z\"/><path d=\"M17.41 7.96l-1.37-1.37c-.4-.4-.92-.59-1.43-.59-.52 0-1.04.2-1.43.59L10.3 9.45l-7.72 7.72c-.78.78-.78 2.05 0 2.83L4 21.41c.39.39.9.59 1.41.59.51 0 1.02-.2 1.41-.59l7.78-7.78 2.81-2.81c.8-.78.8-2.07 0-2.86zM5.41 20L4 18.59l7.72-7.72 1.47 1.35L5.41 20z\"/>\n",
              "  </svg>\n",
              "      </button>\n",
              "      \n",
              "  <style>\n",
              "    .colab-df-container {\n",
              "      display:flex;\n",
              "      flex-wrap:wrap;\n",
              "      gap: 12px;\n",
              "    }\n",
              "\n",
              "    .colab-df-convert {\n",
              "      background-color: #E8F0FE;\n",
              "      border: none;\n",
              "      border-radius: 50%;\n",
              "      cursor: pointer;\n",
              "      display: none;\n",
              "      fill: #1967D2;\n",
              "      height: 32px;\n",
              "      padding: 0 0 0 0;\n",
              "      width: 32px;\n",
              "    }\n",
              "\n",
              "    .colab-df-convert:hover {\n",
              "      background-color: #E2EBFA;\n",
              "      box-shadow: 0px 1px 2px rgba(60, 64, 67, 0.3), 0px 1px 3px 1px rgba(60, 64, 67, 0.15);\n",
              "      fill: #174EA6;\n",
              "    }\n",
              "\n",
              "    [theme=dark] .colab-df-convert {\n",
              "      background-color: #3B4455;\n",
              "      fill: #D2E3FC;\n",
              "    }\n",
              "\n",
              "    [theme=dark] .colab-df-convert:hover {\n",
              "      background-color: #434B5C;\n",
              "      box-shadow: 0px 1px 3px 1px rgba(0, 0, 0, 0.15);\n",
              "      filter: drop-shadow(0px 1px 2px rgba(0, 0, 0, 0.3));\n",
              "      fill: #FFFFFF;\n",
              "    }\n",
              "  </style>\n",
              "\n",
              "      <script>\n",
              "        const buttonEl =\n",
              "          document.querySelector('#df-8dff9fa5-21c2-4998-8255-e3ef6766b1c2 button.colab-df-convert');\n",
              "        buttonEl.style.display =\n",
              "          google.colab.kernel.accessAllowed ? 'block' : 'none';\n",
              "\n",
              "        async function convertToInteractive(key) {\n",
              "          const element = document.querySelector('#df-8dff9fa5-21c2-4998-8255-e3ef6766b1c2');\n",
              "          const dataTable =\n",
              "            await google.colab.kernel.invokeFunction('convertToInteractive',\n",
              "                                                     [key], {});\n",
              "          if (!dataTable) return;\n",
              "\n",
              "          const docLinkHtml = 'Like what you see? Visit the ' +\n",
              "            '<a target=\"_blank\" href=https://colab.research.google.com/notebooks/data_table.ipynb>data table notebook</a>'\n",
              "            + ' to learn more about interactive tables.';\n",
              "          element.innerHTML = '';\n",
              "          dataTable['output_type'] = 'display_data';\n",
              "          await google.colab.output.renderOutput(dataTable, element);\n",
              "          const docLink = document.createElement('div');\n",
              "          docLink.innerHTML = docLinkHtml;\n",
              "          element.appendChild(docLink);\n",
              "        }\n",
              "      </script>\n",
              "    </div>\n",
              "  </div>\n",
              "  "
            ]
          },
          "metadata": {},
          "execution_count": 206
        }
      ]
    },
    {
      "cell_type": "code",
      "source": [
        "df.describe()"
      ],
      "metadata": {
        "colab": {
          "base_uri": "https://localhost:8080/",
          "height": 300
        },
        "id": "bTWYICtdblEa",
        "outputId": "83b69fb9-d764-47e4-910b-a29996ef88a5"
      },
      "execution_count": 207,
      "outputs": [
        {
          "output_type": "execute_result",
          "data": {
            "text/plain": [
              "                 S1            C1            S2            C2            S3  \\\n",
              "count  25010.000000  25010.000000  25010.000000  25010.000000  25010.000000   \n",
              "mean       2.508756      6.995242      2.497721      7.014194      2.510236   \n",
              "std        1.116483      3.749805      1.121767      3.766974      1.123148   \n",
              "min        1.000000      1.000000      1.000000      1.000000      1.000000   \n",
              "25%        2.000000      4.000000      1.000000      4.000000      2.000000   \n",
              "50%        3.000000      7.000000      2.000000      7.000000      3.000000   \n",
              "75%        4.000000     10.000000      4.000000     10.000000      4.000000   \n",
              "max        4.000000     13.000000      4.000000     13.000000      4.000000   \n",
              "\n",
              "                 C3            S4            C4            S5            C5  \\\n",
              "count  25010.000000  25010.000000  25010.000000  25010.000000  25010.000000   \n",
              "mean       7.014154      2.495922      6.942463      2.497321      6.962735   \n",
              "std        3.744974      1.116009      3.747147      1.118732      3.741579   \n",
              "min        1.000000      1.000000      1.000000      1.000000      1.000000   \n",
              "25%        4.000000      1.000000      4.000000      1.000000      4.000000   \n",
              "50%        7.000000      2.000000      7.000000      3.000000      7.000000   \n",
              "75%       10.000000      3.000000     10.000000      3.000000     10.000000   \n",
              "max       13.000000      4.000000     13.000000      4.000000     13.000000   \n",
              "\n",
              "              class  \n",
              "count  25010.000000  \n",
              "mean       0.621152  \n",
              "std        0.788361  \n",
              "min        0.000000  \n",
              "25%        0.000000  \n",
              "50%        1.000000  \n",
              "75%        1.000000  \n",
              "max        9.000000  "
            ],
            "text/html": [
              "\n",
              "  <div id=\"df-425dfe4d-c298-43f7-b616-18b261756526\">\n",
              "    <div class=\"colab-df-container\">\n",
              "      <div>\n",
              "<style scoped>\n",
              "    .dataframe tbody tr th:only-of-type {\n",
              "        vertical-align: middle;\n",
              "    }\n",
              "\n",
              "    .dataframe tbody tr th {\n",
              "        vertical-align: top;\n",
              "    }\n",
              "\n",
              "    .dataframe thead th {\n",
              "        text-align: right;\n",
              "    }\n",
              "</style>\n",
              "<table border=\"1\" class=\"dataframe\">\n",
              "  <thead>\n",
              "    <tr style=\"text-align: right;\">\n",
              "      <th></th>\n",
              "      <th>S1</th>\n",
              "      <th>C1</th>\n",
              "      <th>S2</th>\n",
              "      <th>C2</th>\n",
              "      <th>S3</th>\n",
              "      <th>C3</th>\n",
              "      <th>S4</th>\n",
              "      <th>C4</th>\n",
              "      <th>S5</th>\n",
              "      <th>C5</th>\n",
              "      <th>class</th>\n",
              "    </tr>\n",
              "  </thead>\n",
              "  <tbody>\n",
              "    <tr>\n",
              "      <th>count</th>\n",
              "      <td>25010.000000</td>\n",
              "      <td>25010.000000</td>\n",
              "      <td>25010.000000</td>\n",
              "      <td>25010.000000</td>\n",
              "      <td>25010.000000</td>\n",
              "      <td>25010.000000</td>\n",
              "      <td>25010.000000</td>\n",
              "      <td>25010.000000</td>\n",
              "      <td>25010.000000</td>\n",
              "      <td>25010.000000</td>\n",
              "      <td>25010.000000</td>\n",
              "    </tr>\n",
              "    <tr>\n",
              "      <th>mean</th>\n",
              "      <td>2.508756</td>\n",
              "      <td>6.995242</td>\n",
              "      <td>2.497721</td>\n",
              "      <td>7.014194</td>\n",
              "      <td>2.510236</td>\n",
              "      <td>7.014154</td>\n",
              "      <td>2.495922</td>\n",
              "      <td>6.942463</td>\n",
              "      <td>2.497321</td>\n",
              "      <td>6.962735</td>\n",
              "      <td>0.621152</td>\n",
              "    </tr>\n",
              "    <tr>\n",
              "      <th>std</th>\n",
              "      <td>1.116483</td>\n",
              "      <td>3.749805</td>\n",
              "      <td>1.121767</td>\n",
              "      <td>3.766974</td>\n",
              "      <td>1.123148</td>\n",
              "      <td>3.744974</td>\n",
              "      <td>1.116009</td>\n",
              "      <td>3.747147</td>\n",
              "      <td>1.118732</td>\n",
              "      <td>3.741579</td>\n",
              "      <td>0.788361</td>\n",
              "    </tr>\n",
              "    <tr>\n",
              "      <th>min</th>\n",
              "      <td>1.000000</td>\n",
              "      <td>1.000000</td>\n",
              "      <td>1.000000</td>\n",
              "      <td>1.000000</td>\n",
              "      <td>1.000000</td>\n",
              "      <td>1.000000</td>\n",
              "      <td>1.000000</td>\n",
              "      <td>1.000000</td>\n",
              "      <td>1.000000</td>\n",
              "      <td>1.000000</td>\n",
              "      <td>0.000000</td>\n",
              "    </tr>\n",
              "    <tr>\n",
              "      <th>25%</th>\n",
              "      <td>2.000000</td>\n",
              "      <td>4.000000</td>\n",
              "      <td>1.000000</td>\n",
              "      <td>4.000000</td>\n",
              "      <td>2.000000</td>\n",
              "      <td>4.000000</td>\n",
              "      <td>1.000000</td>\n",
              "      <td>4.000000</td>\n",
              "      <td>1.000000</td>\n",
              "      <td>4.000000</td>\n",
              "      <td>0.000000</td>\n",
              "    </tr>\n",
              "    <tr>\n",
              "      <th>50%</th>\n",
              "      <td>3.000000</td>\n",
              "      <td>7.000000</td>\n",
              "      <td>2.000000</td>\n",
              "      <td>7.000000</td>\n",
              "      <td>3.000000</td>\n",
              "      <td>7.000000</td>\n",
              "      <td>2.000000</td>\n",
              "      <td>7.000000</td>\n",
              "      <td>3.000000</td>\n",
              "      <td>7.000000</td>\n",
              "      <td>1.000000</td>\n",
              "    </tr>\n",
              "    <tr>\n",
              "      <th>75%</th>\n",
              "      <td>4.000000</td>\n",
              "      <td>10.000000</td>\n",
              "      <td>4.000000</td>\n",
              "      <td>10.000000</td>\n",
              "      <td>4.000000</td>\n",
              "      <td>10.000000</td>\n",
              "      <td>3.000000</td>\n",
              "      <td>10.000000</td>\n",
              "      <td>3.000000</td>\n",
              "      <td>10.000000</td>\n",
              "      <td>1.000000</td>\n",
              "    </tr>\n",
              "    <tr>\n",
              "      <th>max</th>\n",
              "      <td>4.000000</td>\n",
              "      <td>13.000000</td>\n",
              "      <td>4.000000</td>\n",
              "      <td>13.000000</td>\n",
              "      <td>4.000000</td>\n",
              "      <td>13.000000</td>\n",
              "      <td>4.000000</td>\n",
              "      <td>13.000000</td>\n",
              "      <td>4.000000</td>\n",
              "      <td>13.000000</td>\n",
              "      <td>9.000000</td>\n",
              "    </tr>\n",
              "  </tbody>\n",
              "</table>\n",
              "</div>\n",
              "      <button class=\"colab-df-convert\" onclick=\"convertToInteractive('df-425dfe4d-c298-43f7-b616-18b261756526')\"\n",
              "              title=\"Convert this dataframe to an interactive table.\"\n",
              "              style=\"display:none;\">\n",
              "        \n",
              "  <svg xmlns=\"http://www.w3.org/2000/svg\" height=\"24px\"viewBox=\"0 0 24 24\"\n",
              "       width=\"24px\">\n",
              "    <path d=\"M0 0h24v24H0V0z\" fill=\"none\"/>\n",
              "    <path d=\"M18.56 5.44l.94 2.06.94-2.06 2.06-.94-2.06-.94-.94-2.06-.94 2.06-2.06.94zm-11 1L8.5 8.5l.94-2.06 2.06-.94-2.06-.94L8.5 2.5l-.94 2.06-2.06.94zm10 10l.94 2.06.94-2.06 2.06-.94-2.06-.94-.94-2.06-.94 2.06-2.06.94z\"/><path d=\"M17.41 7.96l-1.37-1.37c-.4-.4-.92-.59-1.43-.59-.52 0-1.04.2-1.43.59L10.3 9.45l-7.72 7.72c-.78.78-.78 2.05 0 2.83L4 21.41c.39.39.9.59 1.41.59.51 0 1.02-.2 1.41-.59l7.78-7.78 2.81-2.81c.8-.78.8-2.07 0-2.86zM5.41 20L4 18.59l7.72-7.72 1.47 1.35L5.41 20z\"/>\n",
              "  </svg>\n",
              "      </button>\n",
              "      \n",
              "  <style>\n",
              "    .colab-df-container {\n",
              "      display:flex;\n",
              "      flex-wrap:wrap;\n",
              "      gap: 12px;\n",
              "    }\n",
              "\n",
              "    .colab-df-convert {\n",
              "      background-color: #E8F0FE;\n",
              "      border: none;\n",
              "      border-radius: 50%;\n",
              "      cursor: pointer;\n",
              "      display: none;\n",
              "      fill: #1967D2;\n",
              "      height: 32px;\n",
              "      padding: 0 0 0 0;\n",
              "      width: 32px;\n",
              "    }\n",
              "\n",
              "    .colab-df-convert:hover {\n",
              "      background-color: #E2EBFA;\n",
              "      box-shadow: 0px 1px 2px rgba(60, 64, 67, 0.3), 0px 1px 3px 1px rgba(60, 64, 67, 0.15);\n",
              "      fill: #174EA6;\n",
              "    }\n",
              "\n",
              "    [theme=dark] .colab-df-convert {\n",
              "      background-color: #3B4455;\n",
              "      fill: #D2E3FC;\n",
              "    }\n",
              "\n",
              "    [theme=dark] .colab-df-convert:hover {\n",
              "      background-color: #434B5C;\n",
              "      box-shadow: 0px 1px 3px 1px rgba(0, 0, 0, 0.15);\n",
              "      filter: drop-shadow(0px 1px 2px rgba(0, 0, 0, 0.3));\n",
              "      fill: #FFFFFF;\n",
              "    }\n",
              "  </style>\n",
              "\n",
              "      <script>\n",
              "        const buttonEl =\n",
              "          document.querySelector('#df-425dfe4d-c298-43f7-b616-18b261756526 button.colab-df-convert');\n",
              "        buttonEl.style.display =\n",
              "          google.colab.kernel.accessAllowed ? 'block' : 'none';\n",
              "\n",
              "        async function convertToInteractive(key) {\n",
              "          const element = document.querySelector('#df-425dfe4d-c298-43f7-b616-18b261756526');\n",
              "          const dataTable =\n",
              "            await google.colab.kernel.invokeFunction('convertToInteractive',\n",
              "                                                     [key], {});\n",
              "          if (!dataTable) return;\n",
              "\n",
              "          const docLinkHtml = 'Like what you see? Visit the ' +\n",
              "            '<a target=\"_blank\" href=https://colab.research.google.com/notebooks/data_table.ipynb>data table notebook</a>'\n",
              "            + ' to learn more about interactive tables.';\n",
              "          element.innerHTML = '';\n",
              "          dataTable['output_type'] = 'display_data';\n",
              "          await google.colab.output.renderOutput(dataTable, element);\n",
              "          const docLink = document.createElement('div');\n",
              "          docLink.innerHTML = docLinkHtml;\n",
              "          element.appendChild(docLink);\n",
              "        }\n",
              "      </script>\n",
              "    </div>\n",
              "  </div>\n",
              "  "
            ]
          },
          "metadata": {},
          "execution_count": 207
        }
      ]
    },
    {
      "cell_type": "code",
      "execution_count": 208,
      "metadata": {
        "id": "fzzuPSPkzOBF"
      },
      "outputs": [],
      "source": [
        "# Split the data into input (X) and output (Y) variables\n",
        "X = data.drop(['motor_UPDRS'], axis=1).values\n",
        "Y = data['motor_UPDRS'].values"
      ]
    },
    {
      "cell_type": "code",
      "source": [
        "# Split the data into training and testing sets\n",
        "X_train, X_test, Y_train, Y_test = train_test_split(X, Y, test_size=0.2, random_state=42) #80/20 train test split"
      ],
      "metadata": {
        "id": "HGvCx-59lKdi"
      },
      "execution_count": 209,
      "outputs": []
    },
    {
      "cell_type": "code",
      "source": [
        "# Scale the data using StandardScaler\n",
        "scaler = StandardScaler()\n",
        "X_train = scaler.fit_transform(X_train)\n",
        "X_test = scaler.transform(X_test)"
      ],
      "metadata": {
        "id": "-EHYWGK7xyYX"
      },
      "execution_count": 210,
      "outputs": []
    },
    {
      "cell_type": "code",
      "source": [
        "# Define the model\n",
        "model = Sequential()\n",
        "model.add(Dense(64, activation='relu', input_dim=X_train.shape[1]))\n",
        "model.add(Dense(1, activation='linear'))"
      ],
      "metadata": {
        "id": "XAYvcWPq2hmz"
      },
      "execution_count": 211,
      "outputs": []
    },
    {
      "cell_type": "code",
      "source": [
        "# Compile the model with mean squared error as the loss function and Adam optimizer\n",
        "model.compile(loss='mse', optimizer='adam', metrics=['mse','mae'])"
      ],
      "metadata": {
        "id": "BwRGafbc4Dna"
      },
      "execution_count": 212,
      "outputs": []
    },
    {
      "cell_type": "code",
      "source": [
        "# Fit the model to the training data\n",
        "history = model.fit(X_train, Y_train, epochs=100, batch_size=32, verbose=1, validation_split=0.2)"
      ],
      "metadata": {
        "colab": {
          "base_uri": "https://localhost:8080/"
        },
        "id": "59XAPt6W4Mc4",
        "outputId": "0842ea8c-99e0-4692-c380-352a1f361e2a"
      },
      "execution_count": 213,
      "outputs": [
        {
          "output_type": "stream",
          "name": "stdout",
          "text": [
            "Epoch 1/100\n",
            "118/118 [==============================] - 1s 4ms/step - loss: 442.9103 - mse: 442.9103 - mae: 19.2636 - val_loss: 332.1279 - val_mse: 332.1279 - val_mae: 16.1135\n",
            "Epoch 2/100\n",
            "118/118 [==============================] - 0s 2ms/step - loss: 262.7439 - mse: 262.7439 - mae: 13.9066 - val_loss: 190.4855 - val_mse: 190.4855 - val_mae: 11.4789\n",
            "Epoch 3/100\n",
            "118/118 [==============================] - 0s 2ms/step - loss: 161.9700 - mse: 161.9700 - mae: 10.3547 - val_loss: 123.6543 - val_mse: 123.6543 - val_mae: 8.9703\n",
            "Epoch 4/100\n",
            "118/118 [==============================] - 0s 3ms/step - loss: 106.7542 - mse: 106.7542 - mae: 8.2277 - val_loss: 86.2545 - val_mse: 86.2545 - val_mae: 7.5640\n",
            "Epoch 5/100\n",
            "118/118 [==============================] - 0s 3ms/step - loss: 80.5552 - mse: 80.5552 - mae: 7.2203 - val_loss: 70.9461 - val_mse: 70.9461 - val_mae: 6.8961\n",
            "Epoch 6/100\n",
            "118/118 [==============================] - 0s 2ms/step - loss: 68.7633 - mse: 68.7633 - mae: 6.7223 - val_loss: 62.5313 - val_mse: 62.5313 - val_mae: 6.4921\n",
            "Epoch 7/100\n",
            "118/118 [==============================] - 0s 2ms/step - loss: 61.0926 - mse: 61.0926 - mae: 6.3521 - val_loss: 56.1479 - val_mse: 56.1479 - val_mae: 6.1531\n",
            "Epoch 8/100\n",
            "118/118 [==============================] - 0s 2ms/step - loss: 55.5393 - mse: 55.5393 - mae: 6.0587 - val_loss: 51.5713 - val_mse: 51.5713 - val_mae: 5.9149\n",
            "Epoch 9/100\n",
            "118/118 [==============================] - 0s 3ms/step - loss: 51.5420 - mse: 51.5420 - mae: 5.8496 - val_loss: 48.4432 - val_mse: 48.4432 - val_mae: 5.7337\n",
            "Epoch 10/100\n",
            "118/118 [==============================] - 0s 3ms/step - loss: 48.6606 - mse: 48.6606 - mae: 5.6879 - val_loss: 45.9085 - val_mse: 45.9085 - val_mae: 5.5926\n",
            "Epoch 11/100\n",
            "118/118 [==============================] - 0s 3ms/step - loss: 46.4120 - mse: 46.4120 - mae: 5.5500 - val_loss: 44.1811 - val_mse: 44.1811 - val_mae: 5.5028\n",
            "Epoch 12/100\n",
            "118/118 [==============================] - 0s 3ms/step - loss: 44.7471 - mse: 44.7471 - mae: 5.4577 - val_loss: 42.5176 - val_mse: 42.5176 - val_mae: 5.3940\n",
            "Epoch 13/100\n",
            "118/118 [==============================] - 0s 3ms/step - loss: 43.0890 - mse: 43.0890 - mae: 5.3460 - val_loss: 41.3434 - val_mse: 41.3434 - val_mae: 5.3274\n",
            "Epoch 14/100\n",
            "118/118 [==============================] - 0s 3ms/step - loss: 41.6363 - mse: 41.6363 - mae: 5.2421 - val_loss: 40.1548 - val_mse: 40.1548 - val_mae: 5.2185\n",
            "Epoch 15/100\n",
            "118/118 [==============================] - 0s 3ms/step - loss: 40.5551 - mse: 40.5551 - mae: 5.1767 - val_loss: 39.1401 - val_mse: 39.1401 - val_mae: 5.1579\n",
            "Epoch 16/100\n",
            "118/118 [==============================] - 0s 3ms/step - loss: 39.6033 - mse: 39.6033 - mae: 5.1202 - val_loss: 38.4353 - val_mse: 38.4353 - val_mae: 5.1099\n",
            "Epoch 17/100\n",
            "118/118 [==============================] - 0s 2ms/step - loss: 38.7218 - mse: 38.7218 - mae: 5.0516 - val_loss: 37.9049 - val_mse: 37.9049 - val_mae: 5.0912\n",
            "Epoch 18/100\n",
            "118/118 [==============================] - 0s 2ms/step - loss: 37.9331 - mse: 37.9331 - mae: 5.0049 - val_loss: 36.9700 - val_mse: 36.9700 - val_mae: 4.9946\n",
            "Epoch 19/100\n",
            "118/118 [==============================] - 0s 2ms/step - loss: 37.0617 - mse: 37.0617 - mae: 4.9362 - val_loss: 36.2119 - val_mse: 36.2119 - val_mae: 4.9492\n",
            "Epoch 20/100\n",
            "118/118 [==============================] - 0s 2ms/step - loss: 36.4364 - mse: 36.4364 - mae: 4.9040 - val_loss: 35.5186 - val_mse: 35.5186 - val_mae: 4.8854\n",
            "Epoch 21/100\n",
            "118/118 [==============================] - 0s 2ms/step - loss: 35.6849 - mse: 35.6849 - mae: 4.8392 - val_loss: 34.9640 - val_mse: 34.9640 - val_mae: 4.8439\n",
            "Epoch 22/100\n",
            "118/118 [==============================] - 0s 2ms/step - loss: 35.1134 - mse: 35.1134 - mae: 4.8092 - val_loss: 34.3256 - val_mse: 34.3256 - val_mae: 4.7911\n",
            "Epoch 23/100\n",
            "118/118 [==============================] - 0s 2ms/step - loss: 34.3480 - mse: 34.3480 - mae: 4.7582 - val_loss: 33.7467 - val_mse: 33.7467 - val_mae: 4.7518\n",
            "Epoch 24/100\n",
            "118/118 [==============================] - 0s 2ms/step - loss: 33.8164 - mse: 33.8164 - mae: 4.7188 - val_loss: 33.2438 - val_mse: 33.2438 - val_mae: 4.7184\n",
            "Epoch 25/100\n",
            "118/118 [==============================] - 0s 2ms/step - loss: 33.1574 - mse: 33.1574 - mae: 4.6775 - val_loss: 32.4729 - val_mse: 32.4729 - val_mae: 4.6466\n",
            "Epoch 26/100\n",
            "118/118 [==============================] - 0s 2ms/step - loss: 32.6254 - mse: 32.6254 - mae: 4.6387 - val_loss: 32.5089 - val_mse: 32.5089 - val_mae: 4.6874\n",
            "Epoch 27/100\n",
            "118/118 [==============================] - 0s 2ms/step - loss: 31.9168 - mse: 31.9168 - mae: 4.5924 - val_loss: 31.4692 - val_mse: 31.4692 - val_mae: 4.5936\n",
            "Epoch 28/100\n",
            "118/118 [==============================] - 0s 2ms/step - loss: 31.2253 - mse: 31.2253 - mae: 4.5424 - val_loss: 30.7776 - val_mse: 30.7776 - val_mae: 4.5370\n",
            "Epoch 29/100\n",
            "118/118 [==============================] - 0s 2ms/step - loss: 30.6867 - mse: 30.6867 - mae: 4.5111 - val_loss: 30.2640 - val_mse: 30.2640 - val_mae: 4.4912\n",
            "Epoch 30/100\n",
            "118/118 [==============================] - 0s 2ms/step - loss: 30.0103 - mse: 30.0103 - mae: 4.4572 - val_loss: 29.8513 - val_mse: 29.8513 - val_mae: 4.4790\n",
            "Epoch 31/100\n",
            "118/118 [==============================] - 0s 2ms/step - loss: 29.4141 - mse: 29.4141 - mae: 4.4243 - val_loss: 29.2380 - val_mse: 29.2380 - val_mae: 4.4313\n",
            "Epoch 32/100\n",
            "118/118 [==============================] - 0s 2ms/step - loss: 28.8775 - mse: 28.8775 - mae: 4.3759 - val_loss: 28.5658 - val_mse: 28.5658 - val_mae: 4.3803\n",
            "Epoch 33/100\n",
            "118/118 [==============================] - 0s 2ms/step - loss: 28.2723 - mse: 28.2723 - mae: 4.3271 - val_loss: 28.0598 - val_mse: 28.0598 - val_mae: 4.3336\n",
            "Epoch 34/100\n",
            "118/118 [==============================] - 0s 2ms/step - loss: 27.6992 - mse: 27.6992 - mae: 4.2898 - val_loss: 27.3850 - val_mse: 27.3850 - val_mae: 4.2725\n",
            "Epoch 35/100\n",
            "118/118 [==============================] - 0s 2ms/step - loss: 27.0927 - mse: 27.0927 - mae: 4.2302 - val_loss: 26.8763 - val_mse: 26.8763 - val_mae: 4.2459\n",
            "Epoch 36/100\n",
            "118/118 [==============================] - 0s 2ms/step - loss: 26.5113 - mse: 26.5113 - mae: 4.1944 - val_loss: 26.3227 - val_mse: 26.3227 - val_mae: 4.2002\n",
            "Epoch 37/100\n",
            "118/118 [==============================] - 0s 2ms/step - loss: 25.8966 - mse: 25.8966 - mae: 4.1367 - val_loss: 25.6956 - val_mse: 25.6956 - val_mae: 4.1360\n",
            "Epoch 38/100\n",
            "118/118 [==============================] - 0s 2ms/step - loss: 25.4880 - mse: 25.4880 - mae: 4.0966 - val_loss: 25.4734 - val_mse: 25.4734 - val_mae: 4.1435\n",
            "Epoch 39/100\n",
            "118/118 [==============================] - 0s 2ms/step - loss: 24.8250 - mse: 24.8250 - mae: 4.0493 - val_loss: 24.8159 - val_mse: 24.8159 - val_mae: 4.0785\n",
            "Epoch 40/100\n",
            "118/118 [==============================] - 0s 2ms/step - loss: 24.3992 - mse: 24.3992 - mae: 4.0033 - val_loss: 24.4617 - val_mse: 24.4617 - val_mae: 4.0651\n",
            "Epoch 41/100\n",
            "118/118 [==============================] - 0s 2ms/step - loss: 23.8712 - mse: 23.8712 - mae: 3.9571 - val_loss: 23.8515 - val_mse: 23.8515 - val_mae: 3.9868\n",
            "Epoch 42/100\n",
            "118/118 [==============================] - 0s 2ms/step - loss: 23.3422 - mse: 23.3422 - mae: 3.9098 - val_loss: 23.3964 - val_mse: 23.3964 - val_mae: 3.9527\n",
            "Epoch 43/100\n",
            "118/118 [==============================] - 0s 2ms/step - loss: 22.8795 - mse: 22.8795 - mae: 3.8657 - val_loss: 22.8003 - val_mse: 22.8003 - val_mae: 3.8937\n",
            "Epoch 44/100\n",
            "118/118 [==============================] - 0s 2ms/step - loss: 22.4022 - mse: 22.4022 - mae: 3.8196 - val_loss: 22.7732 - val_mse: 22.7732 - val_mae: 3.9239\n",
            "Epoch 45/100\n",
            "118/118 [==============================] - 0s 2ms/step - loss: 21.9512 - mse: 21.9512 - mae: 3.7775 - val_loss: 21.9557 - val_mse: 21.9557 - val_mae: 3.8135\n",
            "Epoch 46/100\n",
            "118/118 [==============================] - 0s 2ms/step - loss: 21.5310 - mse: 21.5310 - mae: 3.7222 - val_loss: 21.7322 - val_mse: 21.7322 - val_mae: 3.8001\n",
            "Epoch 47/100\n",
            "118/118 [==============================] - 0s 2ms/step - loss: 21.0864 - mse: 21.0864 - mae: 3.6914 - val_loss: 21.1234 - val_mse: 21.1234 - val_mae: 3.7271\n",
            "Epoch 48/100\n",
            "118/118 [==============================] - 0s 2ms/step - loss: 20.7462 - mse: 20.7462 - mae: 3.6575 - val_loss: 21.2569 - val_mse: 21.2569 - val_mae: 3.7762\n",
            "Epoch 49/100\n",
            "118/118 [==============================] - 0s 2ms/step - loss: 20.3413 - mse: 20.3413 - mae: 3.6172 - val_loss: 20.4757 - val_mse: 20.4757 - val_mae: 3.6743\n",
            "Epoch 50/100\n",
            "118/118 [==============================] - 0s 2ms/step - loss: 19.9803 - mse: 19.9803 - mae: 3.5743 - val_loss: 20.2256 - val_mse: 20.2256 - val_mae: 3.6506\n",
            "Epoch 51/100\n",
            "118/118 [==============================] - 0s 2ms/step - loss: 19.5439 - mse: 19.5439 - mae: 3.5366 - val_loss: 19.5813 - val_mse: 19.5813 - val_mae: 3.5830\n",
            "Epoch 52/100\n",
            "118/118 [==============================] - 0s 3ms/step - loss: 19.2410 - mse: 19.2410 - mae: 3.5051 - val_loss: 19.2064 - val_mse: 19.2064 - val_mae: 3.5343\n",
            "Epoch 53/100\n",
            "118/118 [==============================] - 0s 3ms/step - loss: 18.8043 - mse: 18.8043 - mae: 3.4531 - val_loss: 18.9521 - val_mse: 18.9521 - val_mae: 3.5053\n",
            "Epoch 54/100\n",
            "118/118 [==============================] - 0s 3ms/step - loss: 18.5204 - mse: 18.5204 - mae: 3.4271 - val_loss: 18.3967 - val_mse: 18.3967 - val_mae: 3.4410\n",
            "Epoch 55/100\n",
            "118/118 [==============================] - 0s 3ms/step - loss: 18.1813 - mse: 18.1813 - mae: 3.3953 - val_loss: 18.1971 - val_mse: 18.1971 - val_mae: 3.4293\n",
            "Epoch 56/100\n",
            "118/118 [==============================] - 0s 3ms/step - loss: 17.8861 - mse: 17.8861 - mae: 3.3680 - val_loss: 18.0272 - val_mse: 18.0272 - val_mae: 3.4034\n",
            "Epoch 57/100\n",
            "118/118 [==============================] - 0s 3ms/step - loss: 17.4883 - mse: 17.4883 - mae: 3.3200 - val_loss: 17.4948 - val_mse: 17.4948 - val_mae: 3.3469\n",
            "Epoch 58/100\n",
            "118/118 [==============================] - 0s 3ms/step - loss: 17.1713 - mse: 17.1713 - mae: 3.2913 - val_loss: 17.2095 - val_mse: 17.2095 - val_mae: 3.3099\n",
            "Epoch 59/100\n",
            "118/118 [==============================] - 0s 3ms/step - loss: 16.9582 - mse: 16.9582 - mae: 3.2619 - val_loss: 16.9846 - val_mse: 16.9846 - val_mae: 3.2965\n",
            "Epoch 60/100\n",
            "118/118 [==============================] - 0s 2ms/step - loss: 16.5624 - mse: 16.5624 - mae: 3.2227 - val_loss: 17.0436 - val_mse: 17.0436 - val_mae: 3.3071\n",
            "Epoch 61/100\n",
            "118/118 [==============================] - 0s 2ms/step - loss: 16.2876 - mse: 16.2876 - mae: 3.1867 - val_loss: 16.3067 - val_mse: 16.3067 - val_mae: 3.2141\n",
            "Epoch 62/100\n",
            "118/118 [==============================] - 0s 2ms/step - loss: 16.1132 - mse: 16.1132 - mae: 3.1753 - val_loss: 15.9063 - val_mse: 15.9063 - val_mae: 3.1618\n",
            "Epoch 63/100\n",
            "118/118 [==============================] - 0s 2ms/step - loss: 15.7190 - mse: 15.7190 - mae: 3.1361 - val_loss: 15.9397 - val_mse: 15.9397 - val_mae: 3.1633\n",
            "Epoch 64/100\n",
            "118/118 [==============================] - 0s 2ms/step - loss: 15.5620 - mse: 15.5620 - mae: 3.1130 - val_loss: 15.4441 - val_mse: 15.4441 - val_mae: 3.1143\n",
            "Epoch 65/100\n",
            "118/118 [==============================] - 0s 2ms/step - loss: 15.1986 - mse: 15.1986 - mae: 3.0691 - val_loss: 15.1886 - val_mse: 15.1886 - val_mae: 3.0763\n",
            "Epoch 66/100\n",
            "118/118 [==============================] - 0s 3ms/step - loss: 14.9596 - mse: 14.9596 - mae: 3.0354 - val_loss: 15.0205 - val_mse: 15.0205 - val_mae: 3.0644\n",
            "Epoch 67/100\n",
            "118/118 [==============================] - 0s 2ms/step - loss: 14.8604 - mse: 14.8604 - mae: 3.0283 - val_loss: 14.8105 - val_mse: 14.8105 - val_mae: 3.0316\n",
            "Epoch 68/100\n",
            "118/118 [==============================] - 0s 2ms/step - loss: 14.4729 - mse: 14.4729 - mae: 2.9909 - val_loss: 14.5361 - val_mse: 14.5361 - val_mae: 2.9897\n",
            "Epoch 69/100\n",
            "118/118 [==============================] - 0s 2ms/step - loss: 14.3105 - mse: 14.3105 - mae: 2.9596 - val_loss: 14.2400 - val_mse: 14.2400 - val_mae: 2.9634\n",
            "Epoch 70/100\n",
            "118/118 [==============================] - 0s 2ms/step - loss: 14.0676 - mse: 14.0676 - mae: 2.9414 - val_loss: 13.8119 - val_mse: 13.8119 - val_mae: 2.9036\n",
            "Epoch 71/100\n",
            "118/118 [==============================] - 0s 2ms/step - loss: 13.8369 - mse: 13.8369 - mae: 2.9145 - val_loss: 14.0019 - val_mse: 14.0019 - val_mae: 2.9212\n",
            "Epoch 72/100\n",
            "118/118 [==============================] - 0s 2ms/step - loss: 13.6495 - mse: 13.6495 - mae: 2.8822 - val_loss: 13.5506 - val_mse: 13.5506 - val_mae: 2.8676\n",
            "Epoch 73/100\n",
            "118/118 [==============================] - 0s 2ms/step - loss: 13.4263 - mse: 13.4263 - mae: 2.8652 - val_loss: 13.4624 - val_mse: 13.4624 - val_mae: 2.8512\n",
            "Epoch 74/100\n",
            "118/118 [==============================] - 0s 2ms/step - loss: 13.2629 - mse: 13.2629 - mae: 2.8479 - val_loss: 13.1985 - val_mse: 13.1985 - val_mae: 2.8199\n",
            "Epoch 75/100\n",
            "118/118 [==============================] - 0s 2ms/step - loss: 13.0368 - mse: 13.0368 - mae: 2.8171 - val_loss: 13.0797 - val_mse: 13.0797 - val_mae: 2.8126\n",
            "Epoch 76/100\n",
            "118/118 [==============================] - 0s 2ms/step - loss: 12.9323 - mse: 12.9323 - mae: 2.8107 - val_loss: 12.9548 - val_mse: 12.9548 - val_mae: 2.7850\n",
            "Epoch 77/100\n",
            "118/118 [==============================] - 0s 2ms/step - loss: 12.7207 - mse: 12.7207 - mae: 2.7806 - val_loss: 12.7102 - val_mse: 12.7102 - val_mae: 2.7574\n",
            "Epoch 78/100\n",
            "118/118 [==============================] - 0s 3ms/step - loss: 12.6069 - mse: 12.6069 - mae: 2.7648 - val_loss: 12.5532 - val_mse: 12.5532 - val_mae: 2.7369\n",
            "Epoch 79/100\n",
            "118/118 [==============================] - 0s 2ms/step - loss: 12.3602 - mse: 12.3602 - mae: 2.7345 - val_loss: 12.6555 - val_mse: 12.6555 - val_mae: 2.7363\n",
            "Epoch 80/100\n",
            "118/118 [==============================] - 0s 3ms/step - loss: 12.2923 - mse: 12.2923 - mae: 2.7290 - val_loss: 12.2970 - val_mse: 12.2970 - val_mae: 2.7043\n",
            "Epoch 81/100\n",
            "118/118 [==============================] - 0s 2ms/step - loss: 12.1513 - mse: 12.1513 - mae: 2.7099 - val_loss: 12.3255 - val_mse: 12.3255 - val_mae: 2.7054\n",
            "Epoch 82/100\n",
            "118/118 [==============================] - 0s 2ms/step - loss: 11.9090 - mse: 11.9090 - mae: 2.6822 - val_loss: 11.9632 - val_mse: 11.9632 - val_mae: 2.6711\n",
            "Epoch 83/100\n",
            "118/118 [==============================] - 0s 2ms/step - loss: 11.8155 - mse: 11.8155 - mae: 2.6605 - val_loss: 11.7916 - val_mse: 11.7916 - val_mae: 2.6346\n",
            "Epoch 84/100\n",
            "118/118 [==============================] - 0s 2ms/step - loss: 11.6247 - mse: 11.6247 - mae: 2.6419 - val_loss: 11.8394 - val_mse: 11.8394 - val_mae: 2.6416\n",
            "Epoch 85/100\n",
            "118/118 [==============================] - 0s 2ms/step - loss: 11.4735 - mse: 11.4735 - mae: 2.6156 - val_loss: 11.6462 - val_mse: 11.6462 - val_mae: 2.6202\n",
            "Epoch 86/100\n",
            "118/118 [==============================] - 0s 2ms/step - loss: 11.4363 - mse: 11.4363 - mae: 2.6179 - val_loss: 11.4453 - val_mse: 11.4453 - val_mae: 2.5880\n",
            "Epoch 87/100\n",
            "118/118 [==============================] - 0s 2ms/step - loss: 11.2991 - mse: 11.2991 - mae: 2.5935 - val_loss: 11.8824 - val_mse: 11.8824 - val_mae: 2.6410\n",
            "Epoch 88/100\n",
            "118/118 [==============================] - 0s 2ms/step - loss: 11.2305 - mse: 11.2305 - mae: 2.5865 - val_loss: 11.4101 - val_mse: 11.4101 - val_mae: 2.5919\n",
            "Epoch 89/100\n",
            "118/118 [==============================] - 0s 3ms/step - loss: 11.0649 - mse: 11.0649 - mae: 2.5612 - val_loss: 11.1930 - val_mse: 11.1930 - val_mae: 2.5496\n",
            "Epoch 90/100\n",
            "118/118 [==============================] - 0s 2ms/step - loss: 10.9424 - mse: 10.9424 - mae: 2.5470 - val_loss: 10.9496 - val_mse: 10.9496 - val_mae: 2.5253\n",
            "Epoch 91/100\n",
            "118/118 [==============================] - 0s 2ms/step - loss: 10.7606 - mse: 10.7606 - mae: 2.5204 - val_loss: 10.8971 - val_mse: 10.8971 - val_mae: 2.5191\n",
            "Epoch 92/100\n",
            "118/118 [==============================] - 0s 2ms/step - loss: 10.7513 - mse: 10.7513 - mae: 2.5198 - val_loss: 10.7550 - val_mse: 10.7550 - val_mae: 2.4970\n",
            "Epoch 93/100\n",
            "118/118 [==============================] - 0s 2ms/step - loss: 10.6076 - mse: 10.6076 - mae: 2.5012 - val_loss: 10.7410 - val_mse: 10.7410 - val_mae: 2.4905\n",
            "Epoch 94/100\n",
            "118/118 [==============================] - 0s 2ms/step - loss: 10.6004 - mse: 10.6004 - mae: 2.4993 - val_loss: 10.8304 - val_mse: 10.8304 - val_mae: 2.5115\n",
            "Epoch 95/100\n",
            "118/118 [==============================] - 0s 3ms/step - loss: 10.4148 - mse: 10.4148 - mae: 2.4713 - val_loss: 10.7415 - val_mse: 10.7415 - val_mae: 2.4837\n",
            "Epoch 96/100\n",
            "118/118 [==============================] - 0s 3ms/step - loss: 10.3158 - mse: 10.3158 - mae: 2.4617 - val_loss: 10.6149 - val_mse: 10.6149 - val_mae: 2.4630\n",
            "Epoch 97/100\n",
            "118/118 [==============================] - 0s 3ms/step - loss: 10.2326 - mse: 10.2326 - mae: 2.4426 - val_loss: 10.3992 - val_mse: 10.3992 - val_mae: 2.4331\n",
            "Epoch 98/100\n",
            "118/118 [==============================] - 0s 3ms/step - loss: 10.1769 - mse: 10.1769 - mae: 2.4367 - val_loss: 10.3206 - val_mse: 10.3206 - val_mae: 2.4212\n",
            "Epoch 99/100\n",
            "118/118 [==============================] - 0s 3ms/step - loss: 9.9862 - mse: 9.9862 - mae: 2.4096 - val_loss: 10.2962 - val_mse: 10.2962 - val_mae: 2.4195\n",
            "Epoch 100/100\n",
            "118/118 [==============================] - 0s 3ms/step - loss: 9.9466 - mse: 9.9466 - mae: 2.4072 - val_loss: 10.2328 - val_mse: 10.2328 - val_mae: 2.4141\n"
          ]
        }
      ]
    },
    {
      "cell_type": "code",
      "source": [
        "# Evaluate the model on the testing data\n",
        "score = model.evaluate(X_test, Y_test, verbose=0)\n",
        "print(\"Test loss:\", score)\n",
        "\n",
        "# Predict the motor_UPDRS scores for the testing data\n",
        "Y_pred = model.predict(X_test)\n",
        "\n",
        "# Print the first 10 actual and predicted motor_UPDRS scores\n",
        "print(\"Actual motor_UPDRS:\", Y_test[:10])\n",
        "print(\"Predicted motor_UPDRS:\", Y_pred[:10].flatten())"
      ],
      "metadata": {
        "colab": {
          "base_uri": "https://localhost:8080/"
        },
        "id": "ouBceeFt4O6q",
        "outputId": "7481bc85-13fc-4ff2-828e-7364cb3859bc"
      },
      "execution_count": 214,
      "outputs": [
        {
          "output_type": "stream",
          "name": "stdout",
          "text": [
            "Test loss: [10.724841117858887, 10.724841117858887, 2.4784886837005615]\n",
            "37/37 [==============================] - 0s 2ms/step\n",
            "Actual motor_UPDRS: [33.084   7.1599 11.218  12.759  25.391  18.     11.484  25.236  17.928\n",
            " 28.092 ]\n",
            "Predicted motor_UPDRS: [27.45107   6.862159 13.349633 12.080522 23.629456 16.549402 10.711697\n",
            " 25.454956 16.409164 27.420958]\n"
          ]
        }
      ]
    },
    {
      "cell_type": "markdown",
      "source": [
        "Plot the history of the training validation data loss. "
      ],
      "metadata": {
        "id": "Qp1K5mgfl2YK"
      }
    },
    {
      "cell_type": "code",
      "source": [
        "#Plot history of loss\n",
        "print(history.history.keys())\n",
        "plt.plot(history.history['loss'])\n",
        "plt.plot(history.history['val_loss'])\n",
        "plt.title('model loss')\n",
        "plt.ylabel('loss')\n",
        "plt.xlabel('epoch')\n",
        "plt.legend(['train', 'validation'], loc='upper left')\n",
        "plt.show()"
      ],
      "metadata": {
        "id": "hIyRoWMal2sM",
        "colab": {
          "base_uri": "https://localhost:8080/",
          "height": 489
        },
        "outputId": "dff6376e-56ad-4d13-ef37-b15dc11612d1"
      },
      "execution_count": 215,
      "outputs": [
        {
          "output_type": "stream",
          "name": "stdout",
          "text": [
            "dict_keys(['loss', 'mse', 'mae', 'val_loss', 'val_mse', 'val_mae'])\n"
          ]
        },
        {
          "output_type": "display_data",
          "data": {
            "text/plain": [
              "<Figure size 640x480 with 1 Axes>"
            ],
            "image/png": "[encoded data removed]"
          },
          "metadata": {}
        }
      ]
    },
    {
      "cell_type": "markdown",
      "source": [
        "Based on the history, how many epochs do you think you should have used while training the model? "
      ],
      "metadata": {
        "id": "FN4ycmRamHCm"
      }
    },
    {
      "cell_type": "markdown",
      "source": [
        "As the number of epochs increase, the loss for the training set and the loss for the test data decreases. That means the accuracy increases with a higher epoch. I would probably do it with 200+ epochs."
      ],
      "metadata": {
        "id": "bQGSC2aCmJd4"
      }
    },
    {
      "cell_type": "markdown",
      "source": [
        "For regression problems, we can measure residuals to guage accurancy. Plot a residuals graph and explain how you interpret it."
      ],
      "metadata": {
        "id": "oowH4UUC2xh-"
      }
    },
    {
      "cell_type": "code",
      "source": [
        "# Calculate the residuals between the predicted and actual motor_UPDRS scores\n",
        "residuals = Y_test - Y_pred.flatten()\n",
        "\n",
        "# Plot the residuals against the predicted motor_UPDRS scores\n",
        "plt.scatter(Y_pred.flatten(), residuals)\n",
        "plt.xlabel(\"Predicted motor_UPDRS scores\")\n",
        "plt.ylabel(\"Residuals\")\n",
        "plt.title(\"Residuals plot\")\n",
        "plt.show()"
      ],
      "metadata": {
        "colab": {
          "base_uri": "https://localhost:8080/",
          "height": 472
        },
        "id": "-6DpX9eDt7AQ",
        "outputId": "494abd10-fe8d-4ca1-eb67-0ca11705f6ed"
      },
      "execution_count": 216,
      "outputs": [
        {
          "output_type": "display_data",
          "data": {
            "text/plain": [
              "<Figure size 640x480 with 1 Axes>"
            ],
            "image/png": "[encoded data removed]"
          },
          "metadata": {}
        }
      ]
    },
    {
      "cell_type": "markdown",
      "metadata": {
        "id": "QQLPjjXtzOBG"
      },
      "source": [
        "Intepretation of residual plot:\n"
      ]
    },
    {
      "cell_type": "markdown",
      "source": [
        "All the residuals except for one outlier is within a 10 deviation with the majority of the data sitting along y = 0 which indicates good residuals."
      ],
      "metadata": {
        "id": "OAcSY0AM3Msi"
      }
    }
  ],
  "metadata": {
    "celltoolbar": "Edit Metadata",
    "kernelspec": {
      "display_name": "Python 3 (ipykernel)",
      "language": "python",
      "name": "python3"
    },
    "language_info": {
      "codemirror_mode": {
        "name": "ipython",
        "version": 3
      },
      "file_extension": ".py",
      "mimetype": "text/x-python",
      "name": "python",
      "nbconvert_exporter": "python",
      "pygments_lexer": "ipython3",
      "version": "3.7.3"
    },
    "colab": {
      "provenance": []
    }
  },
  "nbformat": 4,
  "nbformat_minor": 0
}